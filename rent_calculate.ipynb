{
 "cells": [
  {
   "cell_type": "code",
   "execution_count": 4,
   "metadata": {},
   "outputs": [
    {
     "name": "stdout",
     "output_type": "stream",
     "text": [
      "Your Total rent is: 12\n",
      "Your Total food is: 12\n",
      "Your Total electricity_spend is: 12\n",
      "Your Total charge_per_unit is: 12\n",
      "Your Total persons is: 12\n",
      "Each person will pay =  14\n"
     ]
    }
   ],
   "source": [
    "#rent calculator in python -\n",
    "# linkdin:- aruneshtrivedi/\n",
    "# GitHub:- aruneshtrivedi/\n",
    "\n",
    "## Inputs we need from the user\n",
    "# Total rent\n",
    "# Total food ordered for snacking\n",
    "# Electricity units spend\n",
    "# Charge per unit \n",
    "# Persons living in room/flat\n",
    "\n",
    "## Output\n",
    "# Total amount you've to pay is\n",
    "\n",
    "rent = int(input(\"Enter your hostel/flat rent = \"))\n",
    "food = int(input(\"Enter the amount of food ordered = \"))\n",
    "electricity_spend = int(input(\"Enter the total of electricity spend = \"))\n",
    "charge_per_unit = int(input(\"Enter the charge per unit = \"))\n",
    "persons = int(input(\"Enter the number of persons living in room/flat = \"))\n",
    "\n",
    "total_bill = electricity_spend * charge_per_unit\n",
    "\n",
    "output = (food + rent + total_bill) // persons\n",
    "\n",
    "print(\"Your Total rent is:\", rent)\n",
    "print(\"Your Total food is:\", food)\n",
    "print(\"Your Total electricity_spend is:\", electricity_spend)\n",
    "print(\"Your Total charge_per_unit is:\", charge_per_unit)\n",
    "print(\"Your Total persons is:\", persons)\n",
    "print(\"Each person will pay = \", output)"
   ]
  }
 ],
 "metadata": {
  "kernelspec": {
   "display_name": "Python 3",
   "language": "python",
   "name": "python3"
  },
  "language_info": {
   "codemirror_mode": {
    "name": "ipython",
    "version": 3
   },
   "file_extension": ".py",
   "mimetype": "text/x-python",
   "name": "python",
   "nbconvert_exporter": "python",
   "pygments_lexer": "ipython3",
   "version": "3.11.6"
  }
 },
 "nbformat": 4,
 "nbformat_minor": 2
}
